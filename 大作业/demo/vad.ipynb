{
  "cells": [
    {
      "cell_type": "code",
      "execution_count": 1,
      "metadata": {
        "hidden": true,
        "id": "5w5AkskZ2Fwr"
      },
      "outputs": [
        {
          "name": "stderr",
          "output_type": "stream",
          "text": [
            "100.0%\n"
          ]
        }
      ],
      "source": [
        "#@title Install and Import Dependencies\n",
        "import torch\n",
        "torch.set_num_threads(1)\n",
        "\n",
        "from IPython.display import Audio\n",
        "from pprint import pprint\n",
        "# download example\n",
        "torch.hub.download_url_to_file('https://models.silero.ai/vad_models/en.wav', 'en_example.wav')"
      ]
    },
    {
      "cell_type": "code",
      "execution_count": 2,
      "metadata": {
        "id": "pSifus5IilRp"
      },
      "outputs": [
        {
          "name": "stderr",
          "output_type": "stream",
          "text": [
            "Downloading: \"https://github.com/snakers4/silero-vad/zipball/master\" to /hpc_stor03/sjtu_home/ziyang.ma/.cache/torch/hub/master.zip\n"
          ]
        }
      ],
      "source": [
        "USE_ONNX = False # change this to True if you want to test onnx model\n",
        "if USE_ONNX:\n",
        "    !pip install -q onnxruntime\n",
        "\n",
        "model, utils = torch.hub.load(repo_or_dir='snakers4/silero-vad',\n",
        "                              model='silero_vad',\n",
        "                              force_reload=True,\n",
        "                              onnx=USE_ONNX)\n",
        "\n",
        "(get_speech_timestamps,\n",
        " save_audio,\n",
        " read_audio,\n",
        " VADIterator,\n",
        " collect_chunks) = utils"
      ]
    },
    {
      "cell_type": "code",
      "execution_count": 3,
      "metadata": {},
      "outputs": [
        {
          "data": {
            "text/plain": [
              "<function utils_vad.get_speech_timestamps(audio: torch.Tensor, model, threshold: float = 0.5, sampling_rate: int = 16000, min_speech_duration_ms: int = 250, max_speech_duration_s: float = inf, min_silence_duration_ms: int = 100, window_size_samples: int = 512, speech_pad_ms: int = 30, return_seconds: bool = False, visualize_probs: bool = False, progress_tracking_callback: Callable[[float], NoneType] = None)>"
            ]
          },
          "execution_count": 3,
          "metadata": {},
          "output_type": "execute_result"
        }
      ],
      "source": [
        "get_speech_timestamps"
      ]
    },
    {
      "cell_type": "code",
      "execution_count": 4,
      "metadata": {},
      "outputs": [
        {
          "data": {
            "text/plain": [
              "<function utils_vad.save_audio(path: str, tensor: torch.Tensor, sampling_rate: int = 16000)>"
            ]
          },
          "execution_count": 4,
          "metadata": {},
          "output_type": "execute_result"
        }
      ],
      "source": [
        "save_audio"
      ]
    },
    {
      "cell_type": "code",
      "execution_count": 6,
      "metadata": {},
      "outputs": [
        {
          "data": {
            "text/plain": [
              "<function utils_vad.collect_chunks(tss: List[dict], wav: torch.Tensor)>"
            ]
          },
          "execution_count": 6,
          "metadata": {},
          "output_type": "execute_result"
        }
      ],
      "source": [
        "collect_chunks"
      ]
    },
    {
      "cell_type": "code",
      "execution_count": 5,
      "metadata": {
        "id": "aI_eydBPjsrx"
      },
      "outputs": [
        {
          "name": "stderr",
          "output_type": "stream",
          "text": [
            "/hpc_stor03/sjtu_home/ziyang.ma/miniconda3/envs/slam/lib/python3.9/site-packages/torch/nn/modules/module.py:1501: UserWarning: operator() profile_node %669 : int[] = prim::profile_ivalue(%667)\n",
            " does not have profile information (Triggered internally at ../third_party/nvfuser/csrc/graph_fuser.cpp:104.)\n",
            "  return forward_call(*args, **kwargs)\n"
          ]
        },
        {
          "name": "stdout",
          "output_type": "stream",
          "text": [
            "[{'end': 263136, 'start': 1568},\n",
            " {'end': 417248, 'start': 282144},\n",
            " {'end': 480224, 'start': 455712},\n",
            " {'end': 550880, 'start': 494112},\n",
            " {'end': 711648, 'start': 564768},\n",
            " {'end': 736736, 'start': 715296},\n",
            " {'end': 775648, 'start': 770592},\n",
            " {'end': 799712, 'start': 783392},\n",
            " {'end': 823776, 'start': 810528},\n",
            " {'end': 1128416, 'start': 850976},\n",
            " {'end': 1214944, 'start': 1196064},\n",
            " {'end': 1256416, 'start': 1236512},\n",
            " {'end': 1487328, 'start': 1463328},\n",
            " {'end': 1524192, 'start': 1501216},\n",
            " {'end': 1546720, 'start': 1533472},\n",
            " {'end': 1566688, 'start': 1560608},\n",
            " {'end': 1591264, 'start': 1569824},\n",
            " {'end': 1625056, 'start': 1615392},\n",
            " {'end': 1733600, 'start': 1722400},\n",
            " {'end': 1794016, 'start': 1750560},\n",
            " {'end': 1918944, 'start': 1808928},\n",
            " {'end': 2020320, 'start': 2015264},\n",
            " {'end': 2237920, 'start': 2164768},\n",
            " {'end': 2274784, 'start': 2244128},\n",
            " {'end': 2287584, 'start': 2279456},\n",
            " {'end': 2554848, 'start': 2313760},\n",
            " {'end': 2576864, 'start': 2559520},\n",
            " {'end': 2637792, 'start': 2598944},\n",
            " {'end': 2649568, 'start': 2640928},\n",
            " {'end': 2665440, 'start': 2660384},\n",
            " {'end': 2742752, 'start': 2720800},\n",
            " {'end': 2895328, 'start': 2745888},\n",
            " {'end': 2968032, 'start': 2939936},\n",
            " {'end': 3011552, 'start': 2973728},\n",
            " {'end': 3024864, 'start': 3019808},\n",
            " {'end': 3133408, 'start': 3028512},\n",
            " {'end': 3317728, 'start': 3152416},\n",
            " {'end': 3346400, 'start': 3328544},\n",
            " {'end': 3510240, 'start': 3348000},\n",
            " {'end': 3769312, 'start': 3519008},\n",
            " {'end': 3807200, 'start': 3776032},\n",
            " {'end': 4034528, 'start': 3850784},\n",
            " {'end': 4286944, 'start': 4064288},\n",
            " {'end': 4318176, 'start': 4310048},\n",
            " {'end': 4395488, 'start': 4343840},\n",
            " {'end': 4440032, 'start': 4430368},\n",
            " {'end': 4504032, 'start': 4466720},\n",
            " {'end': 4553184, 'start': 4548128},\n",
            " {'end': 4639712, 'start': 4593184},\n",
            " {'end': 4706784, 'start': 4668448},\n",
            " {'end': 4719584, 'start': 4711456},\n",
            " {'end': 4963296, 'start': 4956192},\n",
            " {'end': 5012960, 'start': 4998688},\n",
            " {'end': 5060576, 'start': 5050912},\n",
            " {'end': 5099488, 'start': 5081632},\n",
            " {'end': 5166560, 'start': 5116960},\n",
            " {'end': 5211616, 'start': 5206048},\n",
            " {'end': 5288928, 'start': 5271072},\n",
            " {'end': 5346272, 'start': 5301280},\n",
            " {'end': 5436896, 'start': 5423648},\n",
            " {'end': 5459936, 'start': 5446688},\n",
            " {'end': 5497312, 'start': 5467680},\n",
            " {'end': 5528032, 'start': 5499424},\n",
            " {'end': 5560288, 'start': 5543968},\n",
            " {'end': 5665248, 'start': 5582880},\n",
            " {'end': 5701600, 'start': 5672480},\n",
            " {'end': 5755872, 'start': 5713440},\n",
            " {'end': 5871072, 'start': 5810208},\n",
            " {'end': 6046176, 'start': 6037536},\n",
            " {'end': 6072800, 'start': 6063648},\n",
            " {'end': 6219232, 'start': 6172704},\n",
            " {'end': 6295008, 'start': 6262304},\n",
            " {'end': 6370272, 'start': 6309408},\n",
            " {'end': 6401504, 'start': 6382624},\n",
            " {'end': 6425056, 'start': 6408224},\n",
            " {'end': 6481888, 'start': 6435872},\n",
            " {'end': 6522336, 'start': 6504992},\n",
            " {'end': 6546912, 'start': 6528032},\n",
            " {'end': 6604768, 'start': 6558240},\n",
            " {'end': 6636000, 'start': 6608928},\n",
            " {'end': 6712800, 'start': 6653472},\n",
            " {'end': 6769632, 'start': 6724640},\n",
            " {'end': 6794720, 'start': 6788128},\n",
            " {'end': 6847456, 'start': 6819872},\n",
            " {'end': 6895072, 'start': 6876704},\n",
            " {'end': 6935008, 'start': 6914080},\n",
            " {'end': 7015904, 'start': 6996512},\n",
            " {'end': 7055840, 'start': 7037984},\n",
            " {'end': 7304672, 'start': 7283232},\n",
            " {'end': 7329248, 'start': 7312928},\n",
            " {'end': 7360480, 'start': 7347232},\n",
            " {'end': 7416288, 'start': 7406112},\n",
            " {'end': 7667168, 'start': 7659040},\n",
            " {'end': 7734752, 'start': 7686176},\n",
            " {'end': 7765984, 'start': 7750176},\n",
            " {'end': 7845856, 'start': 7840288},\n",
            " {'end': 7988704, 'start': 7913504},\n",
            " {'end': 8023008, 'start': 8008224},\n",
            " {'end': 8126944, 'start': 8092192},\n",
            " {'end': 8166368, 'start': 8148000},\n",
            " {'end': 8187360, 'start': 8169504},\n",
            " {'end': 8210400, 'start': 8191520},\n",
            " {'end': 8310752, 'start': 8217632},\n",
            " {'end': 8537056, 'start': 8320032},\n",
            " {'end': 8666592, 'start': 8547872},\n",
            " {'end': 8737760, 'start': 8731168},\n",
            " {'end': 8756192, 'start': 8743456}]\n"
          ]
        }
      ],
      "source": [
        "SAMPLING_RATE = 16000\n",
        "wav = read_audio('/hpc_stor03/sjtu_home/ziyang.ma/data/demo_pandas/pandas.wav', sampling_rate=SAMPLING_RATE)\n",
        "# get speech timestamps from full audio file\n",
        "speech_timestamps = get_speech_timestamps(wav, model, sampling_rate=SAMPLING_RATE)\n",
        "pprint(speech_timestamps)"
      ]
    },
    {
      "cell_type": "code",
      "execution_count": 10,
      "metadata": {},
      "outputs": [],
      "source": [
        "import os\n",
        "for timestamp in speech_timestamps:\n",
        "    save_audio(\n",
        "        os.path.join('/hpc_stor03/sjtu_home/ziyang.ma/data/demo_pandas/vad', str(timestamp['start'])+'_'+str(timestamp['end'])+'.wav'),\n",
        "        collect_chunks([timestamp], wav),\n",
        "        sampling_rate=16000\n",
        "    )"
      ]
    },
    {
      "cell_type": "code",
      "execution_count": 1,
      "metadata": {},
      "outputs": [
        {
          "name": "stdout",
          "output_type": "stream",
          "text": [
            " Wings of surveillance! Why do you do that? Do what? Just because you say wings of before something, it doesn't mean that you're doing a special move. It's like me saying, antenna of power, or thorax of making sandwiches. Wings of disagreement. Whoa! There! Master Bear, Master Chicken, Master Crog, what are you doing out here? Look out! Chained creatures attacked our villages! We tracked them here! Stop! They must be in there. Master Shifu strongly advised us... What? Not to engage. Gotta get in there. But Master Shifu said... You're seriously afraid? Even Master Chicken's going in there! And he's a chicken. That's it. I'm going in. Mantis, you're in trouble. I'm not. I'm not. I'm not. I'm not. Mantis, we have orders not to... They need our help. Come on. I'll go high, you go low. No, wait. Fear the bug! All right, you little... Hold on, buddy. I'm coming! Antenna of power! Ah! It didn't work! Mantis! Mantis? Mantis. Your chi is strong. Just like your friend, the bug. Mantis! Don't worry, little birdie. I'll put your chi to good use. The Red Twin is bye now! The Red Twin is olurius now! Droplets have went wild! Yeah. The Red Twin is warrior! It's chillin'. They're happy... Yeah, good to have you with me in there... Good to have you back, little brother. Ha. Gee wha test of... Might I have pushed through a lot with you, pal? Can I grab onto your... ...gall그reálkseh? You have to watch who's the god on your head! The answer quello agortur us all, rabbit fatto. You want to rush around here, old soul? Nothing right drilled on werewolf in midway there. No. I'm gonna make you bloom. Woohoo! Dad, Dad! What? What is it? I'm ready for my first day of panda training. What? You know, learn to be a panda, master chi, save the world. The pandas sleep till past noon. So, lesson number one is go back to bed. Of course. Nobody said this was gonna be easy. Did I oversleep? Ha ha! You sure did. Yes! Yeah, show them, kids. Can you do this? Can you do that? How about this? How about that? Am I doing it? Is this good? Okay, I'm gonna go. I got it! Bam! Whoa! Uh, Grandma Panda, heads up! Oh, we better roll. Whoa, lunchtime! Whoa! Oh, you gotta let the hill tell. You where to roll. Ugh, working the steak. Dim sum, let's show them how we go. Ah! Woohoo! It's beautiful. Snack time! Oh! Oh, you can fly! I'm coming in hot! Oh! Oh, get them while they're cold. Woohoo! What are you doing there? That food is for Poles. Daddy! Ah! Na na. Ha ha. Feeling relaxed? Totally. Just let yourself fall into it. Got it. Oh! Oh! Ooh! And finally just... There we go. Just let it all out. That's my boy. Woohoo! Get out of there! Oh! Oh, my noodles! Leave my noodles alone! Ooh! Subtle, Po. Very subtle. Let me get some of that. Oh! I need my hand, Po! Oh! Oh! Oh! We love noodles! Noodles! Just like my Po. Ah! Ah! Ah! Oh! What are you guys looking at? Ah! Ah! Ah! Ah! Ah! Ah! Ah! That's how we roll! Cannonball! Cannonball! Yeah! mehr How was that?, mixer Whoa. eyebrows Now, you try again, but don't try so hard. Okay, okay. Much better. Thanks, Dad. For what? You know, just for, you know, showing me what it feels like to be a panda. So, when do you think I'll be ready? Ready? You know, to learn how to master chi. Soon. Real soon. Come on, I want to show you something else. Come on. Sorry about the mess. I don't usually get visitors. Is this... Is this... My mom? I had this done on your 100th day. Your mama couldn't hold you still. You nearly ate the paper. It's true. What was she like? Oh, she was the total package. Smart. Beautiful. Oh, tremendous appetite. She was the love of my life. And then, just when I thought I couldn't get any luckier, along you came my little lotus. I really had it all. Until that one moment... When I... Lost everything? I didn't know my promise to you was the same. I never thought that one day I'd lose you. But you didn't. hinten I didn't expect that. I made it. I didn't expect that. I liked that. Drum... Everybody missed your last kiss... All the way. ...in the morning. You remember? I think it was when you left with your beloved and your pajama. And poor little brat. The truth is... My dad must be crying in his office without even trying to hide his tears, but I had to stop him. Did everybody care? I knew I was sad to miss my� Dude! You broke my cond sabotage. Come on, I thought I knew my share of happiness when bringing it to you. Open the door. Dad, you don't have to worry about losing me ever again. Okay? Let me get some of that. It's from the Eastern Province. Master Lizard, Master Ox, Master Eagle. All of them. In every village from the sea to here, every master in China has vanished. Maybe they are all at the party. Monkey? I didn't get invited either. Kai has taken their chi. We are all that stand between him and the knowledge Yuguay left in our care. The villagers evacuated. Done, Master. Crane, Mantis. Still nothing. Wait, it's them! No.\n"
          ]
        }
      ],
      "source": [
        "import whisper\n",
        "\n",
        "model = whisper.load_model(\"/hpc_stor03/sjtu_home/zheshu.song/.cache/whisper/large-v3.pt\")\n",
        "result = model.transcribe(\"/hpc_stor03/sjtu_home/ziyang.ma/data/demo_pandas/pandas.wav\")\n",
        "print(result[\"text\"])"
      ]
    }
  ],
  "metadata": {
    "colab": {
      "name": "silero-vad.ipynb",
      "provenance": []
    },
    "kernelspec": {
      "display_name": "Python 3",
      "language": "python",
      "name": "python3"
    },
    "language_info": {
      "codemirror_mode": {
        "name": "ipython",
        "version": 3
      },
      "file_extension": ".py",
      "mimetype": "text/x-python",
      "name": "python",
      "nbconvert_exporter": "python",
      "pygments_lexer": "ipython3",
      "version": "3.9.18"
    },
    "toc": {
      "base_numbering": 1,
      "nav_menu": {},
      "number_sections": true,
      "sideBar": true,
      "skip_h1_title": false,
      "title_cell": "Table of Contents",
      "title_sidebar": "Contents",
      "toc_cell": false,
      "toc_position": {},
      "toc_section_display": true,
      "toc_window_display": false
    }
  },
  "nbformat": 4,
  "nbformat_minor": 0
}
